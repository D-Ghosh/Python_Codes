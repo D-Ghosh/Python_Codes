{
  "cells": [
    {
      "cell_type": "code",
      "execution_count": null,
      "metadata": {
        "colab": {
          "base_uri": "https://localhost:8080/"
        },
        "id": "0pJ6OSOljNT4",
        "outputId": "abbe00fc-8ea8-49b1-f697-fad63a5eda39"
      },
      "outputs": [
        {
          "name": "stdout",
          "output_type": "stream",
          "text": [
            "Collecting qutip==5.0.4\n",
            "  Downloading qutip-5.0.4-cp311-cp311-manylinux_2_17_x86_64.manylinux2014_x86_64.whl.metadata (9.2 kB)\n",
            "Requirement already satisfied: numpy>=1.22 in /usr/local/lib/python3.11/dist-packages (from qutip==5.0.4) (1.26.4)\n",
            "Requirement already satisfied: scipy>=1.9 in /usr/local/lib/python3.11/dist-packages (from qutip==5.0.4) (1.14.1)\n",
            "Requirement already satisfied: packaging in /usr/local/lib/python3.11/dist-packages (from qutip==5.0.4) (24.2)\n",
            "Downloading qutip-5.0.4-cp311-cp311-manylinux_2_17_x86_64.manylinux2014_x86_64.whl (29.7 MB)\n",
            "\u001b[2K   \u001b[90m━━━━━━━━━━━━━━━━━━━━━━━━━━━━━━━━━━━━━━━━\u001b[0m \u001b[32m29.7/29.7 MB\u001b[0m \u001b[31m21.9 MB/s\u001b[0m eta \u001b[36m0:00:00\u001b[0m\n",
            "\u001b[?25hInstalling collected packages: qutip\n",
            "Successfully installed qutip-5.0.4\n"
          ]
        }
      ],
      "source": [
        "pip install qutip==5.0.4"
      ]
    },
    {
      "cell_type": "code",
      "execution_count": 1,
      "metadata": {
        "id": "_0dWjwWntbNa"
      },
      "outputs": [],
      "source": [
        "import warnings\n",
        "import numpy as np\n",
        "import scipy.sparse as sp\n",
        "from qutip import (spre, spost, sprepost, thermal_dm, mesolve, qeye, Options,\n",
        "                   tensor, destroy, sigmax, sigmaz, basis)"
      ]
    },
    {
      "cell_type": "code",
      "execution_count": null,
      "metadata": {
        "id": "FIXOD33bt4g4"
      },
      "outputs": [],
      "source": [
        "def rcsolve(Hsys, psi0, tlist, e_ops, Q1, Q2, omega_c_1, omega_c_2, alpha, N, temp_1, temp_2, sparse=False, options=None):\n",
        "    if options is None:\n",
        "        options = Options()\n",
        "\n",
        "    # Get eigenstates of Hsys to estimate deltaE.\n",
        "    energy, _ = Hsys.eigenstates(sparse=sparse)\n",
        "    deltaE = energy[1] - energy[0]\n",
        "    if temp_1 < deltaE / 2:\n",
        "        warnings.warn(\"temp_1 might not provide accurate results\")\n",
        "\n",
        "    gamma_1 = deltaE / (2 * np.pi * omega_c_1)\n",
        "    Omega_1 = 2 * np.pi * gamma_1 * omega_c_1\n",
        "    g_1 = np.sqrt(np.pi * Omega_1 * alpha / 2.0)\n",
        "    nb_1 = 1.0 / (np.exp(Omega_1 / temp_1) - 1)\n",
        "\n",
        "    # For the second bath.\n",
        "    if temp_2 < deltaE / 2:\n",
        "        warnings.warn(\"temp_2 might not provide accurate results\")\n",
        "\n",
        "    gamma_2 = deltaE / (2 * np.pi * omega_c_2)\n",
        "    Omega_2 = 2 * np.pi * gamma_2 * omega_c_2\n",
        "    g_2 = np.sqrt(np.pi * Omega_2 * alpha / 2.0)\n",
        "    nb_2 = 1.0 / (np.exp(Omega_2 / temp_2) - 1)\n",
        "\n",
        "    # Determine the system dimension (assuming Q1 is an operator on the system)\n",
        "    system_dim = Q1.dims[0][0]  # e.g., 2 for sigmaz()\n",
        "\n",
        "    # Define the full Hilbert space: bath1 ⊗ bath2 ⊗ system.\n",
        "    # Bath Hilbert spaces have dimension N; system Hilbert space has dimension system_dim.\n",
        "    # Define bath operators in the full space.\n",
        "    c = tensor(destroy(N), qeye(N), qeye(system_dim))  # Bath 1 annihilation operator.\n",
        "    d = tensor(qeye(N), destroy(N), qeye(system_dim))  # Bath 2 annihilation operator.\n",
        "\n",
        "    # Define system operators in the full space.\n",
        "    Q_1 = tensor(qeye(N), qeye(N), Q1)\n",
        "    Q_2 = tensor(qeye(N), qeye(N), Q2)\n",
        "    Hsys_tot = tensor(qeye(N), qeye(N), Hsys)\n",
        "\n",
        "    # Build e_ops for expectation values (assuming these are system operators).\n",
        "    e_ops_tot = [tensor(qeye(N), qeye(N), op) for op in e_ops]\n",
        "\n",
        "    # Define reaction coordinate operators.\n",
        "    A_op_1 = c.dag() * c\n",
        "    xa_1 = c.dag() + c\n",
        "    A_op_2 = d.dag() * d\n",
        "    xa_2 = d.dag() + d\n",
        "\n",
        "    # Total Hamiltonian for the RC model.\n",
        "    H0 = Omega_1 * A_op_1 + Omega_2 * A_op_2 + Hsys_tot\n",
        "    H1 = g_1 * (c.dag() + c) * Q_1 + g_2 * (d.dag() + d) * Q_2\n",
        "    H = H0 + H1\n",
        "\n",
        "    # Initialize correction operators on the full Hilbert space.\n",
        "    chi_op_1 = 0 * H\n",
        "    xi_op_1 = 0 * H\n",
        "    chi_op_2 = 0 * H\n",
        "    xi_op_2 = 0 * H\n",
        "\n",
        "    # Calculate corrections from the eigenstates of H.\n",
        "    tot_energy, tot_state = H.eigenstates(sparse=sparse)\n",
        "    num_eigs = len(tot_state)\n",
        "\n",
        "    for j in range(num_eigs):\n",
        "        for k in range(num_eigs):\n",
        "            # Bath 1 contributions.\n",
        "            A_jk_1 = xa_1.matrix_element(tot_state[j].dag(), tot_state[k])\n",
        "            dE = tot_energy[j] - tot_energy[k]\n",
        "            if abs(A_jk_1) > 0.0:\n",
        "                if abs(dE) > 0.0:\n",
        "                    X_jk_1 = (0.5 * np.pi * gamma_1 * dE *\n",
        "                              (np.cosh(dE / (2 * temp_1)) / np.sinh(dE / (2 * temp_1))) * A_jk_1)\n",
        "                    xi_jk_1 = 0.5 * np.pi * gamma_1 * dE * A_jk_1\n",
        "                    chi_op_1 += X_jk_1 * tot_state[j] * tot_state[k].dag()\n",
        "                    xi_op_1 += xi_jk_1 * tot_state[j] * tot_state[k].dag()\n",
        "                else:\n",
        "                    X_jk_1 = 0.5 * np.pi * gamma_1 * A_jk_1 * 2 * temp_1\n",
        "                    chi_op_1 += X_jk_1 * tot_state[j] * tot_state[k].dag()\n",
        "\n",
        "            # Bath 2 contributions.\n",
        "            A_jk_2 = xa_2.matrix_element(tot_state[j].dag(), tot_state[k])\n",
        "            dE = tot_energy[j] - tot_energy[k]\n",
        "            if abs(A_jk_2) > 0.0:\n",
        "                if abs(dE) > 0.0:\n",
        "                    X_jk_2 = (0.5 * np.pi * gamma_2 * dE *\n",
        "                              (np.cosh(dE / (2 * temp_2)) / np.sinh(dE / (2 * temp_2))) * A_jk_2)\n",
        "                    xi_jk_2 = 0.5 * np.pi * gamma_2 * dE * A_jk_2\n",
        "                    chi_op_2 += X_jk_2 * tot_state[j] * tot_state[k].dag()\n",
        "                    xi_op_2 += xi_jk_2 * tot_state[j] * tot_state[k].dag()\n",
        "                else:\n",
        "                    X_jk_2 = 0.5 * np.pi * gamma_2 * A_jk_2 * 2 * temp_2\n",
        "                    chi_op_2 += X_jk_2 * tot_state[j] * tot_state[k].dag()\n",
        "\n",
        "    # Construct the dissipators.\n",
        "    A_op_1_full = c + c.dag()\n",
        "    L1 = (-spre(A_op_1_full * chi_op_1) + sprepost(A_op_1_full, chi_op_1) +\n",
        "          sprepost(chi_op_1, A_op_1_full) - spost(chi_op_1 * A_op_1_full) +\n",
        "          spre(A_op_1_full * xi_op_1) + sprepost(A_op_1_full, xi_op_1) -\n",
        "          sprepost(xi_op_1, A_op_1_full) - spost(xi_op_1 * A_op_1_full))\n",
        "\n",
        "    A_op_2_full = d + d.dag()\n",
        "    L2 = (-spre(A_op_2_full * chi_op_2) + sprepost(A_op_2_full, chi_op_2) +\n",
        "          sprepost(chi_op_2, A_op_2_full) - spost(chi_op_2 * A_op_2_full) +\n",
        "          spre(A_op_2_full * xi_op_2) + sprepost(A_op_2_full, xi_op_2) -\n",
        "          sprepost(xi_op_2, A_op_2_full) - spost(xi_op_2 * A_op_2_full))\n",
        "\n",
        "    # Prepare the initial state: thermal states for both baths and the system state.\n",
        "    rho0 = tensor(thermal_dm(N, nb_1), thermal_dm(N, nb_2), psi0)\n",
        "\n",
        "    # Construct the full Liouvillian.\n",
        "    L_total = -1j * (spre(H) - spost(H)) + L1 + L2\n",
        "\n",
        "    output = mesolve(L_total, rho0, tlist, [], e_ops_tot, options=options)\n",
        "    return output"
      ]
    },
    {
      "cell_type": "code",
      "execution_count": null,
      "metadata": {
        "id": "oYDtcvSBuB9P"
      },
      "outputs": [],
      "source": [
        "# Example parameters.\n",
        "Delta = 1.0       # Parameter for Hsys.\n",
        "epsilon = 0.5\n",
        "Hsys = 0.5 * epsilon * sigmaz() + 0.5 * Delta * sigmax()\n",
        "Q1 = sigmaz()\n",
        "Q2 = sigmaz()\n",
        "omega_c_1 = 0.05\n",
        "omega_c_2 = 0.05\n",
        "alpha = 2.5 / np.pi\n",
        "N = 5\n",
        "Temp1 = 1 / 0.95\n",
        "Temp2 = 1 / 0.72\n",
        "tlist = np.linspace(0, 40, 600)\n",
        "initial_state = basis(2, 1) * basis(2, 1).dag()\n",
        "return_vals = [0.5 * (sigmaz() - qeye(2))]"
      ]
    },
    {
      "cell_type": "code",
      "execution_count": null,
      "metadata": {
        "colab": {
          "base_uri": "https://localhost:8080/"
        },
        "id": "pqom2YX0uGJ2",
        "outputId": "676d9d8f-0fe7-44fb-ba6a-220d30f007ba"
      },
      "outputs": [
        {
          "name": "stderr",
          "output_type": "stream",
          "text": [
            "/usr/local/lib/python3.11/dist-packages/qutip/solver/options.py:16: FutureWarning: Dedicated options class are no longer needed, options should be passed as dict to solvers.\n",
            "  warnings.warn(\n"
          ]
        }
      ],
      "source": [
        "options = Options(nsteps=15000, store_states=True)\n",
        "\n",
        "output = rcsolve(Hsys, initial_state, tlist, return_vals, Q1, Q2, omega_c_1, omega_c_2,\n",
        "                 alpha, N, Temp1, Temp2, options=options)"
      ]
    },
    {
      "cell_type": "code",
      "execution_count": null,
      "metadata": {
        "colab": {
          "base_uri": "https://localhost:8080/",
          "height": 368
        },
        "id": "cZ4NNJ_kuLkO",
        "outputId": "0edc28b5-d4ca-41cb-bb1f-bddeabf0bf9b"
      },
      "outputs": [
        {
          "data": {
            "image/png": "[encoded data removed]",
            "text/plain": [
              "<Figure size 800x400 with 1 Axes>"
            ]
          },
          "metadata": {},
          "output_type": "display_data"
        }
      ],
      "source": [
        "import matplotlib.pyplot as plt\n",
        "fig, ax = plt.subplots(1, 1, sharex=True, figsize=(8, 4))\n",
        "ax.plot(tlist, -np.real(output.expect[0]), 'b', linewidth=2, label=\"RCM (2 Baths)\")\n",
        "ax.legend(loc='best')\n",
        "plt.show()"
      ]
    },
    {
      "cell_type": "code",
      "execution_count": 4,
      "metadata": {},
      "outputs": [
        {
          "name": "stdout",
          "output_type": "stream",
          "text": [
            "\n",
            "QuTiP: Quantum Toolbox in Python\n",
            "================================\n",
            "Copyright (c) QuTiP team 2011 and later.\n",
            "Original developers: R. J. Johansson & P. D. Nation.\n",
            "Previous lead developers: Chris Granade & A. Grimsmo.\n",
            "Current admin team: Alexander Pitchford, Paul D. Nation, Nathan Shammah, Shahnawaz Ahmed, Neill Lambert, and Eric Giguère.\n",
            "Project Manager: Franco Nori.\n",
            "Currently developed through wide collaboration. See https://github.com/qutip for details.\n",
            "\n",
            "QuTiP Version:      4.5.0\n",
            "Numpy Version:      1.24.3\n",
            "Scipy Version:      1.10.1\n",
            "Cython Version:     3.0.11\n",
            "Matplotlib Version: 3.7.2\n",
            "Python Version:     3.8.20\n",
            "Number of CPUs:     4\n",
            "BLAS Info:          INTEL MKL\n",
            "OPENMP Installed:   False\n",
            "INTEL MKL Ext:      False\n",
            "Platform Info:      Windows (AMD64)\n",
            "Installation path:  c:\\Users\\debop\\miniconda3\\envs\\env1\\lib\\site-packages\\qutip\n",
            "==============================================================================\n",
            "Please cite QuTiP in your publication.\n",
            "==============================================================================\n",
            "For your convenience a bibtex reference can be easily generated using `qutip.cite()`\n"
          ]
        }
      ],
      "source": [
        "from qutip import *\n",
        "about()"
      ]
    },
    {
      "cell_type": "code",
      "execution_count": null,
      "metadata": {
        "colab": {
          "base_uri": "https://localhost:8080/",
          "height": 579
        },
        "id": "67driqzUyjEN",
        "outputId": "6b8d4d0f-cbe4-4fee-b65b-3a9d893852d2"
      },
      "outputs": [
        {
          "ename": "ImportError",
          "evalue": "cannot import name 'DrudeLorentzBath' from 'qutip.nonmarkov.heom' (c:\\Users\\debop\\miniconda3\\envs\\env1\\lib\\site-packages\\qutip\\nonmarkov\\heom.py)",
          "output_type": "error",
          "traceback": [
            "\u001b[1;31m---------------------------------------------------------------------------\u001b[0m",
            "\u001b[1;31mImportError\u001b[0m                               Traceback (most recent call last)",
            "Cell \u001b[1;32mIn[3], line 4\u001b[0m\n\u001b[0;32m      2\u001b[0m \u001b[38;5;28;01mimport\u001b[39;00m \u001b[38;5;21;01mmatplotlib\u001b[39;00m\u001b[38;5;21;01m.\u001b[39;00m\u001b[38;5;21;01mpyplot\u001b[39;00m \u001b[38;5;28;01mas\u001b[39;00m \u001b[38;5;21;01mplt\u001b[39;00m\n\u001b[0;32m      3\u001b[0m \u001b[38;5;28;01mfrom\u001b[39;00m \u001b[38;5;21;01mqutip\u001b[39;00m \u001b[38;5;28;01mimport\u001b[39;00m \u001b[38;5;241m*\u001b[39m\n\u001b[1;32m----> 4\u001b[0m \u001b[38;5;28;01mfrom\u001b[39;00m \u001b[38;5;21;01mqutip\u001b[39;00m\u001b[38;5;21;01m.\u001b[39;00m\u001b[38;5;21;01mnonmarkov\u001b[39;00m\u001b[38;5;21;01m.\u001b[39;00m\u001b[38;5;21;01mheom\u001b[39;00m \u001b[38;5;28;01mimport\u001b[39;00m DrudeLorentzBath, HEOMSolver\n\u001b[0;32m      6\u001b[0m \u001b[38;5;66;03m# Bath description parameters for HEOM\u001b[39;00m\n\u001b[0;32m      7\u001b[0m Nk \u001b[38;5;241m=\u001b[39m \u001b[38;5;241m3\u001b[39m                   \u001b[38;5;66;03m# Number of Matsubara frequencies (exponentials)\u001b[39;00m\n",
            "\u001b[1;31mImportError\u001b[0m: cannot import name 'DrudeLorentzBath' from 'qutip.nonmarkov.heom' (c:\\Users\\debop\\miniconda3\\envs\\env1\\lib\\site-packages\\qutip\\nonmarkov\\heom.py)"
          ]
        }
      ],
      "source": [
        "import numpy as np\n",
        "import matplotlib.pyplot as plt\n",
        "from qutip import *\n",
        "from qutip.nonmarkov.heom import DrudeLorentzBath, HEOMSolver\n",
        "\n",
        "# Bath description parameters for HEOM\n",
        "Nk = 3                   # Number of Matsubara frequencies (exponentials)\n",
        "max_depth = 10           # Maximum hierarchy depth (analogous to Ncut)\n",
        "\n",
        "# System parameters\n",
        "eps = 0.5                # Energy splitting of the TSS\n",
        "Del = 1.0                # Tunnelling amplitude\n",
        "H_sys = 0.5 * eps * sigmaz() + 0.5 * Del * sigmax()\n",
        "\n",
        "# System-bath coupling: Drude-Lorentz spectral density parameters.\n",
        "Q = sigmaz()             # Coupling operator (for both baths)\n",
        "gam = 0.05               # Cutoff frequency (same for both baths)\n",
        "alpha = 2.5 /np.pi        # Coupling strength (same as in your RCM approach)\n",
        "\n",
        "# Temperatures for the two baths\n",
        "T1 = 1.0/0.95          # Temperature for bath 1\n",
        "T2 = 1.0/0.72          # Temperature for bath 2\n",
        "\n",
        "# Create two Drude–Lorentz bath objects\n",
        "bath1 = DrudeLorentzBath(Q, alpha, gam, T1, Nk)\n",
        "bath2 = DrudeLorentzBath(Q, alpha, gam, T2, Nk)\n",
        "\n",
        "# Put the baths in a list for the multi-bath HEOM solver\n",
        "baths = [bath1, bath2]\n",
        "\n",
        "# Construct the Liouvillian for the system Hamiltonian.\n",
        "# (Bath terminators can be included if desired; here we omit them for clarity.)\n",
        "HL = 1j * (spre(H_sys) - spost(H_sys))\n",
        "\n",
        "# Set integration options (optional)\n",
        "options = {\"nsteps\": 15000}\n",
        "\n",
        "# Configure the HEOM solver with the specified maximum hierarchy depth and the two baths.\n",
        "heom_solver = HEOMSolver(HL, baths, max_depth=max_depth, options=options)\n",
        "\n",
        "# Define the initial state of the system (TSS).\n",
        "# In HEOM the state is only for the system, as the bath degrees are incorporated in the hierarchy.\n",
        "rho0 = basis(2, 1) * basis(2, 1).dag()\n",
        "\n",
        "# Define the time grid for the simulation.\n",
        "tlist = np.linspace(0, 40, 600)\n",
        "\n",
        "# Run the HEOM simulation.\n",
        "result = heom_solver.run(rho0, tlist)\n",
        "\n",
        "# Define the observable for which the expectation value is desired.\n",
        "# For example, this observable corresponds to 0.5*(sigmaz() - qeye(2)).\n",
        "observable = 0.5 * (sigmaz() - qeye(2))\n",
        "return_vals = [observable]\n",
        "\n",
        "# Calculate the expectation value(s) using the resulting states.\n",
        "# (Each element in result.states is the reduced density matrix of the TSS.)\n",
        "exp_vals = [expect(op, result.states) for op in return_vals]\n",
        "\n",
        "# Plot the expectation value.\n",
        "plt.figure(figsize=(8, 4))\n",
        "plt.plot(tlist, -np.real(exp_vals[0]), 'b-', linewidth=2, label=\"HEOM (2 baths)\")\n",
        "plt.xlabel(\"Time\")\n",
        "plt.ylabel(\"Expectation value\")\n",
        "plt.legend(loc='best')\n",
        "plt.show()\n"
      ]
    },
    {
      "cell_type": "code",
      "execution_count": null,
      "metadata": {
        "colab": {
          "base_uri": "https://localhost:8080/",
          "height": 388
        },
        "id": "hmgb-ZRP0D28",
        "outputId": "8cead9d4-d67e-4e09-ec01-bf95f053e06d"
      },
      "outputs": [
        {
          "data": {
            "image/png": "[encoded data removed]",
            "text/plain": [
              "<Figure size 800x400 with 1 Axes>"
            ]
          },
          "metadata": {},
          "output_type": "display_data"
        }
      ],
      "source": [
        "import matplotlib.pyplot as plt\n",
        "\n",
        "# Create a new figure.\n",
        "fig, ax = plt.subplots(figsize=(8, 4))\n",
        "\n",
        "# Plot the RCM result.\n",
        "ax.plot(tlist, -np.real(output.expect[0]), 'b-', linewidth=2, label=\"RCM (2 Baths)\")\n",
        "\n",
        "# Plot the HEOM result.\n",
        "ax.plot(tlist, -np.real(exp_vals[0]), 'r--', linewidth=2, label=\"HEOM (2 Baths)\")\n",
        "\n",
        "# Set axis labels and legend.\n",
        "ax.set_xlabel(\"Time\")\n",
        "ax.set_ylabel(\"$\\\\rho_{11}$\")\n",
        "ax.legend(loc='best')\n",
        "\n",
        "# Display the combined plot.\n",
        "plt.show()\n"
      ]
    },
    {
      "cell_type": "code",
      "execution_count": null,
      "metadata": {
        "id": "hr5030g24cGq"
      },
      "outputs": [],
      "source": []
    }
  ],
  "metadata": {
    "colab": {
      "provenance": []
    },
    "kernelspec": {
      "display_name": "myenv",
      "language": "python",
      "name": "python3"
    },
    "language_info": {
      "codemirror_mode": {
        "name": "ipython",
        "version": 3
      },
      "file_extension": ".py",
      "mimetype": "text/x-python",
      "name": "python",
      "nbconvert_exporter": "python",
      "pygments_lexer": "ipython3",
      "version": "3.13.2"
    }
  },
  "nbformat": 4,
  "nbformat_minor": 0
}
