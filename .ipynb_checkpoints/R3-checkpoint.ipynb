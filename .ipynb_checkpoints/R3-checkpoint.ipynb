{
 "cells": [
  {
   "cell_type": "code",
   "execution_count": 15,
   "metadata": {},
   "outputs": [],
   "source": [
    "from sympy import Matrix, eye, zeros\n",
    "\n",
    "def drazin_inverse(A, tol=1e-10):\n",
    "    A = Matrix(A)\n",
    "    n = A.shape[0]\n",
    "\n",
    "    def rank_k(A, k):\n",
    "        \"\"\" Compute rank of A^k \"\"\"\n",
    "        return (A**k).rank()\n",
    "\n",
    "    # Find the Drazin index k\n",
    "    k = 0\n",
    "    while rank_k(A, k) != rank_k(A, k + 1):\n",
    "        k += 1\n",
    "\n",
    "    # Compute the range space of A^k\n",
    "    Ak = A**k\n",
    "    r = Ak.rank()\n",
    "\n",
    "    # If A is full-rank, return its inverse directly\n",
    "    if r == n:\n",
    "        return A.inv()\n",
    "\n",
    "    # Construct P (permutation matrix separating invertible and nilpotent parts)\n",
    "    Q, R = Ak.T.rref()\n",
    "\n",
    "    if r < n:\n",
    "        P = Q.row_join(eye(n - r)).T\n",
    "    else:\n",
    "        P = Q  # Avoid shape mismatch\n",
    "\n",
    "    # Transform A into block upper-triangular form\n",
    "    A_reordered = P.inv() * A * P\n",
    "\n",
    "    # Extract M (invertible part) and N (nilpotent part)\n",
    "    M = A_reordered[:r, :r]\n",
    "    N = A_reordered[r:, r:]\n",
    "\n",
    "    # Compute M inverse\n",
    "    M_inv = M.inv() if M.det() != 0 else zeros(r, r)\n",
    "\n",
    "    # Construct the Drazin inverse\n",
    "    AD = P * Matrix.vstack(\n",
    "        Matrix.hstack(M_inv, zeros(r, n - r)),\n",
    "        Matrix.hstack(zeros(n - r, r), zeros(n - r, n - r))\n",
    "    ) * P.inv()\n",
    "\n",
    "    return AD\n"
   ]
  },
  {
   "cell_type": "code",
   "execution_count": 16,
   "metadata": {},
   "outputs": [
    {
     "data": {
      "text/latex": [
       "$\\displaystyle \\left[\\begin{matrix}\\frac{d i - f h}{a d i - a f h - b c i + b f g + c e h - d e g} & \\frac{- b i + e h}{a d i - a f h - b c i + b f g + c e h - d e g} & \\frac{b f - d e}{a d i - a f h - b c i + b f g + c e h - d e g}\\\\\\frac{- c i + f g}{a d i - a f h - b c i + b f g + c e h - d e g} & \\frac{a i - e g}{a d i - a f h - b c i + b f g + c e h - d e g} & \\frac{- a f + c e}{a d i - a f h - b c i + b f g + c e h - d e g}\\\\\\frac{c h - d g}{a d i - a f h - b c i + b f g + c e h - d e g} & \\frac{- a h + b g}{a d i - a f h - b c i + b f g + c e h - d e g} & \\frac{a d - b c}{a d i - a f h - b c i + b f g + c e h - d e g}\\end{matrix}\\right]$"
      ],
      "text/plain": [
       "Matrix([\n",
       "[ (d*i - f*h)/(a*d*i - a*f*h - b*c*i + b*f*g + c*e*h - d*e*g), (-b*i + e*h)/(a*d*i - a*f*h - b*c*i + b*f*g + c*e*h - d*e*g),  (b*f - d*e)/(a*d*i - a*f*h - b*c*i + b*f*g + c*e*h - d*e*g)],\n",
       "[(-c*i + f*g)/(a*d*i - a*f*h - b*c*i + b*f*g + c*e*h - d*e*g),  (a*i - e*g)/(a*d*i - a*f*h - b*c*i + b*f*g + c*e*h - d*e*g), (-a*f + c*e)/(a*d*i - a*f*h - b*c*i + b*f*g + c*e*h - d*e*g)],\n",
       "[ (c*h - d*g)/(a*d*i - a*f*h - b*c*i + b*f*g + c*e*h - d*e*g), (-a*h + b*g)/(a*d*i - a*f*h - b*c*i + b*f*g + c*e*h - d*e*g),  (a*d - b*c)/(a*d*i - a*f*h - b*c*i + b*f*g + c*e*h - d*e*g)]])"
      ]
     },
     "execution_count": 16,
     "metadata": {},
     "output_type": "execute_result"
    }
   ],
   "source": [
    "import sympy as sm\n",
    "\n",
    "a, b, c, d, e, f, g, h, i = sm.symbols(\"a b c d e f g h i\")\n",
    "\n",
    "A = sm.Matrix([\n",
    "    [a, b, e],\n",
    "    [c, d, f],\n",
    "    [g, h, i]\n",
    "])\n",
    "\n",
    "drazin_inverse(A)"
   ]
  },
  {
   "cell_type": "code",
   "execution_count": null,
   "metadata": {},
   "outputs": [],
   "source": []
  }
 ],
 "metadata": {
  "kernelspec": {
   "display_name": "qnv",
   "language": "python",
   "name": "python3"
  },
  "language_info": {
   "codemirror_mode": {
    "name": "ipython",
    "version": 3
   },
   "file_extension": ".py",
   "mimetype": "text/x-python",
   "name": "python",
   "nbconvert_exporter": "python",
   "pygments_lexer": "ipython3",
   "version": "3.10.16"
  }
 },
 "nbformat": 4,
 "nbformat_minor": 2
}
