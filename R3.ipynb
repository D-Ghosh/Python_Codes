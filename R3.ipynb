{
 "cells": [
  {
   "cell_type": "code",
   "execution_count": 17,
   "metadata": {},
   "outputs": [],
   "source": [
    "import sympy as sp\n",
    "\n",
    "def drazin_inverse(A, tol=1e-10):\n",
    "    A = sp.Matrix(A)\n",
    "    n = A.shape[0]\n",
    "\n",
    "    def rank_k(A, k):\n",
    "        \"\"\" Compute rank of A^k \"\"\"\n",
    "        return (A**k).rank()\n",
    "\n",
    "    # Find the Drazin index k\n",
    "    k = 0\n",
    "    while rank_k(A, k) != rank_k(A, k + 1):\n",
    "        k += 1\n",
    "\n",
    "    # Compute the range space of A^k\n",
    "    Ak = A**k\n",
    "    r = Ak.rank()\n",
    "\n",
    "    # If A is full-rank, return its inverse directly\n",
    "    if r == n:\n",
    "        return A.inv()\n",
    "\n",
    "    # Compute null space of A^k\n",
    "    nullspace_basis = Ak.nullspace()\n",
    "    \n",
    "    # Construct Q from the null space basis\n",
    "    if nullspace_basis:\n",
    "        Q = sp.Matrix.hstack(*nullspace_basis)\n",
    "    else:\n",
    "        raise ValueError(\"Null space computation failed.\")\n",
    "\n",
    "    # Ensure Q is a square matrix\n",
    "    if Q.shape[1] < n:\n",
    "        # Add missing columns from the identity matrix\n",
    "        extra_cols = sp.eye(n).extract(range(n), range(Q.shape[1], n))\n",
    "        P = sp.Matrix.hstack(Q, extra_cols)\n",
    "    else:\n",
    "        P = Q\n",
    "\n",
    "    # Avoid inverting P, solve in transformed basis\n",
    "    A_reordered = P.T * A * P\n",
    "\n",
    "    # Extract M (invertible part) and N (nilpotent part)\n",
    "    M = A_reordered[:r, :r]\n",
    "    N = A_reordered[r:, r:]\n",
    "\n",
    "    # Compute M inverse (only if M is invertible)\n",
    "    M_inv = M.inv() if M.det() != 0 else sp.zeros(r, r)\n",
    "\n",
    "    # Construct the Drazin inverse\n",
    "    AD = P * sp.Matrix.vstack(\n",
    "        sp.Matrix.hstack(M_inv, sp.zeros(r, n - r)),\n",
    "        sp.Matrix.hstack(sp.zeros(n - r, r), sp.zeros(n - r, n - r))\n",
    "    ) * P.T\n",
    "\n",
    "    return AD\n"
   ]
  },
  {
   "cell_type": "code",
   "execution_count": 25,
   "metadata": {},
   "outputs": [],
   "source": [
    "import sympy as sp\n",
    "\n",
    "# Define symbols\n",
    "a, b, c, d, e, f, g, h, i, j, k, l, m, n, o, p = sp.symbols('a b c d e f g h i j k l m n o p')\n",
    "i = sp.I  # Imaginary unit\n",
    "\n",
    "# Example 4x4 matrix (singular, to demonstrate Drazin inverse)\n",
    "A = sp.Matrix([[a, b],\n",
    "               [e, f]\n",
    "])\n",
    "\n",
    "# Compute Drazin inverse using your function\n",
    "AD = drazin_inverse(A)"
   ]
  },
  {
   "cell_type": "code",
   "execution_count": 26,
   "metadata": {},
   "outputs": [],
   "source": [
    "AD = AD.applyfunc(lambda expr: sp.simplify(sp.expand(expr)))"
   ]
  },
  {
   "cell_type": "code",
   "execution_count": 27,
   "metadata": {},
   "outputs": [
    {
     "data": {
      "text/latex": [
       "$\\displaystyle \\left[\\begin{matrix}\\frac{f}{a f - b e} & - \\frac{b}{a f - b e}\\\\- \\frac{e}{a f - b e} & \\frac{a}{a f - b e}\\end{matrix}\\right]$"
      ],
      "text/plain": [
       "Matrix([\n",
       "[ f/(a*f - b*e), -b/(a*f - b*e)],\n",
       "[-e/(a*f - b*e),  a/(a*f - b*e)]])"
      ]
     },
     "execution_count": 27,
     "metadata": {},
     "output_type": "execute_result"
    }
   ],
   "source": [
    "AD"
   ]
  },
  {
   "cell_type": "code",
   "execution_count": null,
   "metadata": {},
   "outputs": [],
   "source": [
    "import sympy as sp\n",
    "\n",
    "# Define variables\n",
    "chi, A, B = sp.symbols('chi A B', real=True)\n",
    "i = sp.I  # Imaginary unit\n",
    "\n",
    "# Define the eigenvalue function\n",
    "lambda_chi = (B * (1 + sp.exp(i * chi)) + sp.sqrt(B**2 * (1 + sp.exp(i * chi))**2 - 4 * (A**2 * sp.exp(-i * chi) + B**2))) / 2\n",
    "\n",
    "# Compute the real part\n",
    "real_part = sp.re(lambda_chi)\n",
    "\n",
    "# Find the value of chi that minimizes the real part\n",
    "chi_min = sp.solve(sp.diff(real_part, chi), chi)\n",
    "\n",
    "# Print the result\n",
    "print(\"Critical points for minimum real part of lambda:\", chi_min)\n",
    "\n",
    "# Evaluate the real part at these critical points\n",
    "real_part_min = [real_part.subs(chi, c) for c in chi_min]\n",
    "\n",
    "print(\"Minimum real part values:\", real_part_min)\n"
   ]
  },
  {
   "cell_type": "code",
   "execution_count": null,
   "metadata": {},
   "outputs": [],
   "source": []
  }
 ],
 "metadata": {
  "kernelspec": {
   "display_name": "qnv",
   "language": "python",
   "name": "python3"
  },
  "language_info": {
   "codemirror_mode": {
    "name": "ipython",
    "version": 3
   },
   "file_extension": ".py",
   "mimetype": "text/x-python",
   "name": "python",
   "nbconvert_exporter": "python",
   "pygments_lexer": "ipython3",
   "version": "3.10.16"
  }
 },
 "nbformat": 4,
 "nbformat_minor": 4
}
